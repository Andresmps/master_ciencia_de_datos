{
 "cells": [
  {
   "cell_type": "code",
   "execution_count": 1,
   "metadata": {},
   "outputs": [],
   "source": [
    "# Importamos la líbreria necesaria\n",
    "import datetime\n",
    "\n",
    "from cassandra.cluster import Cluster\n",
    "\n",
    "# Conexión a Cassandra\n",
    "\n",
    "cluster = Cluster()\n",
    "session = cluster.connect('camilomartinez')"
   ]
  },
  {
   "cell_type": "code",
   "execution_count": null,
   "metadata": {},
   "outputs": [],
   "source": []
  }
 ],
 "metadata": {
  "kernelspec": {
   "display_name": "sistemas-almacenamiento-sR32l-9Z-py3.10",
   "language": "python",
   "name": "sistemas-almacenamiento-sr32l-9z-py3.10"
  },
  "language_info": {
   "codemirror_mode": {
    "name": "ipython",
    "version": 3
   },
   "file_extension": ".py",
   "mimetype": "text/x-python",
   "name": "python",
   "nbconvert_exporter": "python",
   "pygments_lexer": "ipython3",
   "version": "3.10.12"
  }
 },
 "nbformat": 4,
 "nbformat_minor": 2
}
